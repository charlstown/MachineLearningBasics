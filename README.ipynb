{
 "cells": [
  {
   "cell_type": "markdown",
   "metadata": {
    "heading_collapsed": true
   },
   "source": [
    "# 01 LINEAR REGRESSION WITH MULTIPLE VARIABLES"
   ]
  },
  {
   "cell_type": "markdown",
   "metadata": {
    "hidden": true
   },
   "source": [
    "## Table data example:\n",
    "![Title](https://i.stack.imgur.com/K7Cx0.png)\n",
    "** Always add the X<sub>0</sub> column with zeros as features.\n",
    "\n",
    "- X1 ... Xn: as the variables number.\n",
    "- n: as the number of variables\n",
    "- X1<sup>1</sup> ... X1<sup>m</sup> as the features\n",
    "- m: as the number of this features."
   ]
  },
  {
   "cell_type": "markdown",
   "metadata": {
    "hidden": true
   },
   "source": [
    "## Equations:"
   ]
  },
  {
   "cell_type": "markdown",
   "metadata": {
    "hidden": true
   },
   "source": [
    "### Lineal hypothesis:\n",
    "\\begin{align*}\n",
    "h_\\theta(x) = \\theta^t x = \\theta_0·X_0 + \\theta_1·X_1 + \\theta_2·X_2 + ... + \\theta_n·X_n\n",
    "\\end{align*}"
   ]
  },
  {
   "cell_type": "markdown",
   "metadata": {
    "hidden": true
   },
   "source": [
    "### Quadratic hypothesis"
   ]
  },
  {
   "cell_type": "markdown",
   "metadata": {
    "hidden": true
   },
   "source": [
    "\\begin{align}\n",
    "h_\\theta(x) = \\theta_0 + \\theta_1x_0 + \\theta_1x_1 + \\theta_2 x_0^2 + \\theta_2 x_1^2\n",
    "\\end{align}"
   ]
  },
  {
   "cell_type": "markdown",
   "metadata": {
    "hidden": true
   },
   "source": [
    "### Cost Function:\n",
    "\\begin{align}\n",
    "J(\\theta) = \\frac{1}{2m} \\sum_{i=1}^{m}(h_\\theta(x^{(i)})-y^{(i)})^2\n",
    "\\end{align}"
   ]
  },
  {
   "cell_type": "markdown",
   "metadata": {
    "hidden": true
   },
   "source": [
    "### Gradient descent:\n",
    "\\begin{align*}\n",
    "\\theta_j:= \\theta_j - \\alpha·\\frac{1}{m}\\ \\sum_{m=1}^{\\infty} (\\theta(X^i) - y^i)^2 ·X_j^i\n",
    "\\end{align*}\n",
    "** for all j"
   ]
  },
  {
   "cell_type": "markdown",
   "metadata": {
    "hidden": true
   },
   "source": [
    "## Example:\n"
   ]
  },
  {
   "cell_type": "markdown",
   "metadata": {
    "ExecuteTime": {
     "end_time": "2019-10-15T20:02:46.651482Z",
     "start_time": "2019-10-15T20:02:46.646484Z"
    },
    "hidden": true
   },
   "source": [
    "1. Graphing the data"
   ]
  },
  {
   "cell_type": "code",
   "execution_count": 5,
   "metadata": {
    "ExecuteTime": {
     "end_time": "2019-11-29T17:06:59.578374Z",
     "start_time": "2019-11-29T17:06:59.434101Z"
    },
    "hidden": true
   },
   "outputs": [
    {
     "data": {
      "image/png": "[encoded data removed]",
      "text/plain": [
       "<Figure size 432x288 with 1 Axes>"
      ]
     },
     "metadata": {
      "needs_background": "light"
     },
     "output_type": "display_data"
    }
   ],
   "source": [
    "import pandas as pd\n",
    "import numpy as np\n",
    "import seaborn as sns\n",
    "import matplotlib.pyplot as plt\n",
    "pd.options.display.max_columns = 500\n",
    "pd.options.display.max_rows = 500\n",
    "# =============================================================================\n",
    "# =========================== INSERT YOUR CODE BELOW ===========================\n",
    "# =============================================================================\n",
    "\n",
    "#Load data\n",
    "data = pd.read_csv(r'_data/ex1data1.txt', header=None, names=['x', 'y'])\n",
    "\n",
    "#Plot data\n",
    "plt.plot(data.x, data.y, 'o')\n",
    "plt.title('Data points')\n",
    "plt.xlabel('X axis')\n",
    "plt.ylabel('Y axis')\n",
    "plt.show()\n",
    "\n",
    "#variables calculation\n",
    "m = len(data.x)\n",
    "theta = np.array([0, 0])\n",
    "vector_x = np.array([[1]*len(data.x), data.x]).transpose()\n",
    "vector_y = np.array(data.y)"
   ]
  },
  {
   "cell_type": "markdown",
   "metadata": {
    "hidden": true
   },
   "source": [
    "2. Initial cost function calculation"
   ]
  },
  {
   "cell_type": "code",
   "execution_count": 9,
   "metadata": {
    "ExecuteTime": {
     "end_time": "2019-11-29T17:07:13.033559Z",
     "start_time": "2019-11-29T17:07:13.016457Z"
    },
    "hidden": true
   },
   "outputs": [
    {
     "name": "stdout",
     "output_type": "stream",
     "text": [
      "The initial cost for theta [0. 0.] is J = 0.0\n"
     ]
    }
   ],
   "source": [
    "#Cost function calculation\n",
    "def costfunc(vec_x, vec_y, theta, m):\n",
    "    hypothesis = vec_x.dot(theta.transpose())\n",
    "    error = (hypothesis-vec_y)\n",
    "    cost = 1/(2*m) * np.sum(error**2)\n",
    "    return cost, error\n",
    "\n",
    "#output\n",
    "cost = costfunc(vector_x,vector_y , theta, m)\n",
    "print('The initial cost for theta {} is J = {}'.format(theta,cost[0]))"
   ]
  },
  {
   "cell_type": "markdown",
   "metadata": {
    "hidden": true
   },
   "source": [
    "3. Gradient descent calculation"
   ]
  },
  {
   "cell_type": "code",
   "execution_count": 11,
   "metadata": {
    "ExecuteTime": {
     "end_time": "2019-11-29T17:19:24.553108Z",
     "start_time": "2019-11-29T17:19:24.283924Z"
    },
    "hidden": true
   },
   "outputs": [
    {
     "name": "stdout",
     "output_type": "stream",
     "text": [
      "Cost Function graph with Alpha = 0.01 doing 200 loops\n"
     ]
    },
    {
     "data": {
      "image/png": "[encoded data removed]",
      "text/plain": [
       "<Figure size 1080x360 with 2 Axes>"
      ]
     },
     "metadata": {
      "needs_background": "light"
     },
     "output_type": "display_data"
    },
    {
     "name": "stdout",
     "output_type": "stream",
     "text": [
      "()\n",
      "The final error is 0.0\n",
      "()\n",
      "THE FINAL THETA IS [0. 0.]\n"
     ]
    }
   ],
   "source": [
    "#Number of iterations\n",
    "cycles = 200\n",
    "alpha = 0.01\n",
    "\n",
    "#Gradient descent\n",
    "cost_h = []\n",
    "for i in range(cycles):\n",
    "    costf = costfunc(vector_x, vector_y, theta, m)\n",
    "    cost = costf[0]\n",
    "    cost_h.append(cost)\n",
    "    error = costf[1]\n",
    "    theta_0 = theta[0] - alpha*(1/m)*np.sum(error)\n",
    "    theta_1 = theta[1] - alpha*(1/m)*np.sum(error*vector_x[:, 1])\n",
    "    theta = np.array([theta_0, theta_1])\n",
    "\n",
    "y_sol = [theta[0] + theta[1]*x for x in data.x]\n",
    "\n",
    "#Plot cost function\n",
    "print('Cost Function graph with Alpha = {} doing {} loops'.format(alpha, cycles))\n",
    "f, axs = plt.subplots(1,2,figsize=(15,5))\n",
    "plt.subplot(1, 2, 1)\n",
    "plt.plot(list(range(cycles)), cost_h)\n",
    "plt.xlabel('Number of Loops')\n",
    "plt.ylabel('Error')\n",
    "\n",
    "#Plot Line\n",
    "plt.subplot(1, 2, 2)\n",
    "plt.plot(data.x, y_sol, color = 'red')\n",
    "plt.scatter(data.x, data.y,marker='x', s=20)\n",
    "\n",
    "\n",
    "plt.show()\n",
    "print()\n",
    "print('The final error is {}'.format(cost))\n",
    "print()\n",
    "print('THE FINAL THETA IS {}'.format(theta))"
   ]
  },
  {
   "cell_type": "markdown",
   "metadata": {},
   "source": [
    "# 02 LOGISTIC REGRESSION CLASSIFICATION"
   ]
  },
  {
   "cell_type": "markdown",
   "metadata": {},
   "source": [
    "## Table data example:"
   ]
  },
  {
   "cell_type": "markdown",
   "metadata": {},
   "source": [
    "![LogisticTable](https://ai2-s2-public.s3.amazonaws.com/figures/2017-08-08/7bde8445f0b69af569406cfd78801e8be0deefc0/2-Table1-1.png)"
   ]
  },
  {
   "cell_type": "markdown",
   "metadata": {},
   "source": [
    "## Equations"
   ]
  },
  {
   "cell_type": "markdown",
   "metadata": {},
   "source": [
    "### Sigmoid hypothesis"
   ]
  },
  {
   "cell_type": "markdown",
   "metadata": {},
   "source": [
    "\\begin{align}\n",
    "h_\\theta(x) = g(\\theta^t x) = \\frac{1}{1+ \\mathrm e^{-\\theta^Tx}}\n",
    "\\end{align}\n",
    "\n",
    "\\begin{align}\n",
    "h_\\theta(x) = P(y=1 | x;\\theta)\n",
    "\\end{align}"
   ]
  },
  {
   "cell_type": "markdown",
   "metadata": {},
   "source": [
    "![sigmoid](https://www.researchgate.net/profile/Tali_Leibovich-Raveh/publication/325868989/figure/fig2/AS:639475206074368@1529474178211/A-Basic-sigmoid-function-with-two-parameters-c1-and-c2-as-commonly-used-for-subitizing.png)\n",
    "\n",
    "\\begin{align}\n",
    "g(z) \\geq 0.5\\\\WHEN: z(x) \\geq 0\n",
    "\\end{align}"
   ]
  },
  {
   "cell_type": "markdown",
   "metadata": {},
   "source": [
    "### None-linear decision boundaries"
   ]
  },
  {
   "cell_type": "markdown",
   "metadata": {},
   "source": [
    "\\begin{align}\n",
    "h\\theta(x) = g(\\theta_0 + \\theta_1 x_1 + \\theta_2 x_2 + \\theta_3 x_1^2 + \\theta_4 x_2^2)\n",
    "\\end{align}"
   ]
  },
  {
   "cell_type": "markdown",
   "metadata": {},
   "source": [
    "### Cost function"
   ]
  },
  {
   "cell_type": "markdown",
   "metadata": {},
   "source": [
    "\\begin{align}\n",
    "cost(h_\\theta(x), y) = \n",
    "\\begin{cases}\n",
    "-log(h_\\theta(x))\\hspace{0,5cm}if y=1\\\\\n",
    "\\\\-log(1-h_\\theta (x)) \\hspace{0,5cm}if y = 0\n",
    "\\end{cases}\n",
    "\\end{align}\n",
    "\n",
    "\\begin{align}\n",
    "cost(h_\\theta(x), y) = -ylog(h_\\theta(x)) - (1-y)log(1-h_\\theta (x))\n",
    "\\end{align}\n",
    "\n",
    "\\begin{align}\n",
    "J(\\theta) = \\frac{1}{m} \\sum_{i=1}^{m}Cost(h_\\theta(x^{(i)}, y^{i)})\\\\\n",
    "J(\\theta) = -\\frac{1}{m}[\\sum_{i=1}^my^{(i)}logh_\\theta(x^{(i)}) + (1-y^{i})·log(1-h_\\theta(x^{(i)})]\n",
    "\\end{align}"
   ]
  },
  {
   "cell_type": "markdown",
   "metadata": {},
   "source": [
    "### Gradient descent"
   ]
  },
  {
   "cell_type": "markdown",
   "metadata": {
    "ExecuteTime": {
     "end_time": "2019-11-01T09:19:17.183658Z",
     "start_time": "2019-11-01T09:19:17.178663Z"
    }
   },
   "source": [
    "Gradient formula:\n",
    "\\begin{align}\n",
    "\\frac{\\delta(\\theta)}{\\delta\\theta_j} = \\frac{1}{m} \\sum_{i=1}^m(h_\\theta(x^{(i))}-y^{(i)})·x_j^i\n",
    "\\end{align}"
   ]
  },
  {
   "cell_type": "markdown",
   "metadata": {
    "ExecuteTime": {
     "end_time": "2019-10-20T21:27:24.705255Z",
     "start_time": "2019-10-20T21:27:24.684268Z"
    }
   },
   "source": [
    "Gradient descent\n",
    "\\begin{align}\n",
    "min_\\theta J(\\theta):\\\\\n",
    "\\end{align}\n",
    "\\begin{align}\n",
    "Repeat \\{\\\\\n",
    "\\theta_j:= theta_j-\\alpha\\frac{1}{m}\\sum_{i=1}^m(h_\\theta(x^{(i)})-y^{(i)})·x_j^{(i)}\\\\\n",
    "\\}\n",
    "\\end{align}"
   ]
  },
  {
   "cell_type": "markdown",
   "metadata": {},
   "source": [
    "### Decision boundary"
   ]
  },
  {
   "cell_type": "markdown",
   "metadata": {},
   "source": [
    "![decision](https://miro.medium.com/max/452/1*wAIEsN7iLVclhoYJpCifjw.png)\n",
    "\\begin{align}\n",
    "    when: h(x) = 0\\\\\n",
    "    g(z) = 0.5\\\\\n",
    "    \\\\\n",
    "h(x) = \\theta_0 + \\theta_1·x_1 + \\theta_2·x_2 = 0\n",
    "\\end{align}"
   ]
  },
  {
   "cell_type": "markdown",
   "metadata": {},
   "source": [
    "## Example"
   ]
  },
  {
   "cell_type": "markdown",
   "metadata": {},
   "source": [
    "1. Graphing data"
   ]
  },
  {
   "cell_type": "code",
   "execution_count": null,
   "metadata": {
    "ExecuteTime": {
     "end_time": "2019-11-29T17:03:46.759492Z",
     "start_time": "2019-11-29T17:03:46.083Z"
    }
   },
   "outputs": [],
   "source": [
    "import pandas as pd\n",
    "import numpy as np\n",
    "import seaborn as sns\n",
    "import matplotlib.pyplot as plt\n",
    "pd.options.display.max_columns = 500\n",
    "pd.options.display.max_rows = 500\n",
    "# =============================================================================\n",
    "# =========================== INSERT YOUR CODE BELOW ===========================\n",
    "# =============================================================================\n",
    "\n",
    "#Load data\n",
    "data = pd.read_csv(r'_data\\ex2data1.txt', header=None, names=['x', 'x1', 'y'])\n",
    "datay0 = data.where(data.y == 0).dropna()\n",
    "datay1 = data.where(data.y == 1).dropna()\n",
    "\n",
    "#Printed data\n",
    "print(data.head())\n",
    "\n",
    "#Plot data\n",
    "plt.scatter(datay0.x, datay0.x1, marker = 'x', color='red', label ='Not Admitted')\n",
    "plt.scatter(datay1.x, datay1.x1, marker = 'o', color='green', label='Admitted')\n",
    "plt.title('Second Exam')\n",
    "plt.xlabel('First exam')\n",
    "plt.ylabel('Y axis')\n",
    "plt.legend()\n",
    "plt.show()"
   ]
  },
  {
   "cell_type": "markdown",
   "metadata": {},
   "source": [
    "2. Initial cost function calculation"
   ]
  },
  {
   "cell_type": "code",
   "execution_count": null,
   "metadata": {
    "ExecuteTime": {
     "end_time": "2019-11-29T17:03:46.761238Z",
     "start_time": "2019-11-29T17:03:46.090Z"
    }
   },
   "outputs": [],
   "source": [
    "import math as mt\n",
    "\n",
    "#variables calculation\n",
    "m = len(data.x)\n",
    "theta = np.zeros((3,1))\n",
    "vector_x = np.array([[1]*len(data.x), data.x, data.x1]).transpose()\n",
    "vector_y = np.array(data.y)[np.newaxis].T\n",
    "\n",
    "#Cost function calculation\n",
    "def sigmoid(lst):\n",
    "    sigmoid = lambda x: 1/(1+mt.e**(-x))\n",
    "    output = np.array([sigmoid(i) for i in lst])\n",
    "    return output\n",
    "\n",
    "def costfunc(vec_x, vec_y, theta, m):\n",
    "    hx = vec_x.dot(theta)\n",
    "    gx = sigmoid(hx)\n",
    "    cost = vec_y * np.log(gx) + (1-vec_y) * np.log(1-gx)\n",
    "    fcost = - (1/m) * np.sum(cost)\n",
    "    return fcost, gx\n",
    "\n",
    "#output\n",
    "cost = costfunc(vector_x,vector_y , theta, m)\n",
    "print('The initial cost for theta {} is J = {}'.format(theta.T,cost[0]))"
   ]
  },
  {
   "cell_type": "markdown",
   "metadata": {},
   "source": [
    "3. Gradient Descent"
   ]
  },
  {
   "cell_type": "code",
   "execution_count": null,
   "metadata": {
    "ExecuteTime": {
     "end_time": "2019-11-29T17:03:46.763045Z",
     "start_time": "2019-11-29T17:03:46.097Z"
    }
   },
   "outputs": [],
   "source": [
    "#Number of iterations\n",
    "cycles = 5000\n",
    "alpha = 0.001068\n",
    "theta = np.array([-1, 0, 0])[np.newaxis].T\n",
    "\n",
    "#Variables\n",
    "cost_h = []\n",
    "theta_0 = theta[0]\n",
    "theta_1 = theta[1]\n",
    "theta_2 = theta[2]\n",
    "\n",
    "#Gradient descent\n",
    "for i in range(cycles):\n",
    "    cost = costfunc(vector_x, vector_y, theta, m)\n",
    "    cost_h.append(cost[0])\n",
    "    gx = cost[1]\n",
    "    theta_0 = theta_0 - alpha * 1/m * np.sum((gx-vector_y)*vector_x[:, 0][np.newaxis].T)\n",
    "    theta_1 = theta_1 - alpha * 1/m * np.sum((gx-vector_y)*vector_x[:, 1][np.newaxis].T)\n",
    "    theta_2 = theta_2 - alpha * 1/m * np.sum((gx-vector_y)*vector_x[:, 2][np.newaxis].T)\n",
    "    theta = np.array([theta_0, theta_1, theta_2])\n",
    "\n",
    "#Otuput\n",
    "print('The final error is {}'.format(cost_h[-3:]))\n",
    "print()\n",
    "print('THE FINAL THETA IS {}'.format(theta.T))\n",
    "print()\n",
    "print('The minimum error found with 300k cycles and alpha = 0.001068 is J = 0.27582976320910635')\n",
    "print('And the final theta is: ')\n",
    "theta = np.array([-9.78506335, 0.08377175, 0.0775022])[np.newaxis].T\n",
    "print(theta.T)"
   ]
  },
  {
   "cell_type": "markdown",
   "metadata": {
    "ExecuteTime": {
     "end_time": "2019-11-01T18:16:46.370173Z",
     "start_time": "2019-11-01T18:16:46.365175Z"
    }
   },
   "source": [
    "4. Algorithm trial"
   ]
  },
  {
   "cell_type": "code",
   "execution_count": null,
   "metadata": {
    "ExecuteTime": {
     "end_time": "2019-11-29T17:03:46.765115Z",
     "start_time": "2019-11-29T17:03:46.104Z"
    }
   },
   "outputs": [],
   "source": [
    "#Original hypothesis\n",
    "eq = lambda x, y: sigmoid(theta[0] + x*theta[1] + y*theta[2])\n",
    "\n",
    "#Select a point by index to know the y\n",
    "index = 4\n",
    "y = eq(vector_x[index, 1], vector_x[index, 2])\n",
    "\n",
    "#Outputs\n",
    "print('hypothesis theta = {}, {}, {}'.format(theta[0], theta[1], theta[2]))\n",
    "print()\n",
    "print('With this hypothesis the point P(x1, x2) = ({}, {}) would have a y = {}'.format(vector_x[index, 1], vector_x[index, 2], y))"
   ]
  },
  {
   "cell_type": "code",
   "execution_count": null,
   "metadata": {
    "ExecuteTime": {
     "end_time": "2019-11-29T17:03:46.766820Z",
     "start_time": "2019-11-29T17:03:46.107Z"
    }
   },
   "outputs": [],
   "source": [
    "#Resolving equation for two points\n",
    "theta.flatten()\n",
    "x_pts = []\n",
    "y_pts = []\n",
    "##If x2 = 0\n",
    "y_pts.append(0)\n",
    "x1 = -theta[0]/theta[1]\n",
    "x_pts.append(x1)\n",
    "##If x1 = 0\n",
    "x_pts.append(0)\n",
    "y2 = -theta[0]/theta[2]\n",
    "y_pts.append(y2)\n",
    "\n",
    "#Plot cost function\n",
    "print('Cost Function graph with Alpha = {} doing {} loops'.format(alpha, cycles))\n",
    "f, axs = plt.subplots(1,2,figsize=(15,5))\n",
    "plt.subplot(1, 2, 1)\n",
    "plt.plot(list(range(cycles)), cost_h)\n",
    "plt.xlabel('Number of Loops')\n",
    "plt.ylabel('Error')\n",
    "\n",
    "#Plot Line\n",
    "plt.subplot(1, 2, 2)\n",
    "plt.scatter(datay0.x, datay0.x1, marker = 'x', color='red', label ='Not Admitted')\n",
    "plt.scatter(datay1.x, datay1.x1, marker = 'o', color='green', label='Admitted')\n",
    "plt.plot(x_pts, y_pts)\n",
    "plt.title('Decision boundary test')\n",
    "plt.xlabel('First test')\n",
    "plt.ylabel('Second test')\n",
    "plt.legend()\n",
    "\n",
    "plt.show()"
   ]
  },
  {
   "cell_type": "markdown",
   "metadata": {},
   "source": [
    "# 03 LOGISTIC REGRESSION MULTICLASS"
   ]
  },
  {
   "cell_type": "code",
   "execution_count": null,
   "metadata": {
    "ExecuteTime": {
     "end_time": "2019-11-29T17:03:46.768173Z",
     "start_time": "2019-11-29T17:03:46.115Z"
    }
   },
   "outputs": [],
   "source": [
    "from scipy.io import loadmat\n",
    "x = loadmat(r'_data\\ex3data1.mat')"
   ]
  },
  {
   "cell_type": "markdown",
   "metadata": {},
   "source": [
    "# 04 NEURAL NETWORKS"
   ]
  },
  {
   "attachments": {
    "NeuralNetwork.JPG": {
     "image/jpeg": "[encoded data removed]"
    }
   },
   "cell_type": "markdown",
   "metadata": {},
   "source": [
    "![NeuralNetwork](attachment:NeuralNetwork.JPG)"
   ]
  },
  {
   "cell_type": "markdown",
   "metadata": {},
   "source": [
    "## Equations"
   ]
  },
  {
   "cell_type": "markdown",
   "metadata": {},
   "source": [
    " ### Forward propagation"
   ]
  },
  {
   "cell_type": "markdown",
   "metadata": {},
   "source": [
    " #### Hiden layer:"
   ]
  },
  {
   "cell_type": "markdown",
   "metadata": {},
   "source": [
    "\\begin{align}\n",
    "a_1^{(2)} = g(z_1^{(2)}) = g(\\theta_{10}^{(1)}·x_0 + \\theta_{11}^{(1)}·x_1 + \\theta_{12}^{(1)}·x_2 + \\theta_{13}^{(1)}·x_3)\\\\\n",
    "a_2^{(2)} = g(z_2^{(2)}) = g(\\theta_{20}^{(1)}·x_0 + \\theta_{21}^{(1)}·x_1 + \\theta_{22}^{(1)}·x_2 + \\theta_{23}^{(1)}·x_3)\\\\\n",
    "a_3^{(2)} = g(z_3^{(2)}) = g(\\theta_{30}^{(1)}·x_0 + \\theta_{31}^{(1)}·x_1 + \\theta_{32}^{(1)}·x_2 + \\theta_{33}^{(1)}·x_3)\n",
    "\\end{align}"
   ]
  },
  {
   "cell_type": "markdown",
   "metadata": {},
   "source": [
    " #### Output layer:"
   ]
  },
  {
   "cell_type": "markdown",
   "metadata": {},
   "source": [
    "\\begin{align}\n",
    "h_\\theta(x) = g(z_1^{3}) = g(\\theta_{10}^{(2)}·a_0^{(2)} + \\theta_{11}^{(2)}·a_1^{(2)} + \\theta_{12}^{(2)}·a_2^{(2)} + \\theta_{13}^{(2)}·a_3^{(2)})\n",
    "\\end{align}"
   ]
  },
  {
   "cell_type": "markdown",
   "metadata": {},
   "source": [
    "### Cost function"
   ]
  },
  {
   "cell_type": "markdown",
   "metadata": {},
   "source": [
    "Logistic regression regularization\n",
    "\\begin{align}\n",
    "J(\\theta) = -\\frac{1}{m}[\\sum_{i=1}^m y^{(i)}\\log h_\\theta(x^{(i)})+(1-y^{(i)})\\log(1-h_\\theta(x^{(i)}))] + \\frac{\\lambda}{2m}\\sum_{j=1}^n\\theta_j^2\n",
    "\\end{align}"
   ]
  },
  {
   "cell_type": "markdown",
   "metadata": {},
   "source": [
    "Neural network regularization"
   ]
  },
  {
   "cell_type": "markdown",
   "metadata": {},
   "source": [
    "\\begin{align}\n",
    "J(\\theta) = -\\frac{1}{m}[\\sum_{i=1}^m\\sum_{k=1}^m y_k^{(i)}\\log h_\\theta(x^{(i)})_k+(1-y_k^{(i)})\\log(1-(h_\\theta(x^{(i)}))_k)] + \\frac{\\lambda}{2m}\\sum_{l=1}^{L-1}\\sum_{i=1}^{s_l}\\sum_{j=1}^{s_l+1}(\\theta_{ji}^{(l)})^2\n",
    "\\end{align}"
   ]
  },
  {
   "cell_type": "markdown",
   "metadata": {},
   "source": [
    "### Backpropagation"
   ]
  },
  {
   "cell_type": "code",
   "execution_count": null,
   "metadata": {},
   "outputs": [],
   "source": []
  }
 ],
 "metadata": {
  "kernelspec": {
   "display_name": "Python 3",
   "language": "python",
   "name": "python3"
  },
  "language_info": {
   "codemirror_mode": {
    "name": "ipython",
    "version": 3
   },
   "file_extension": ".py",
   "mimetype": "text/x-python",
   "name": "python",
   "nbconvert_exporter": "python",
   "pygments_lexer": "ipython3",
   "version": "3.6.5"
  },
  "varInspector": {
   "cols": {
    "lenName": 16,
    "lenType": 16,
    "lenVar": 40
   },
   "kernels_config": {
    "python": {
     "delete_cmd_postfix": "",
     "delete_cmd_prefix": "del ",
     "library": "var_list.py",
     "varRefreshCmd": "print(var_dic_list())"
    },
    "r": {
     "delete_cmd_postfix": ") ",
     "delete_cmd_prefix": "rm(",
     "library": "var_list.r",
     "varRefreshCmd": "cat(var_dic_list()) "
    }
   },
   "types_to_exclude": [
    "module",
    "function",
    "builtin_function_or_method",
    "instance",
    "_Feature"
   ],
   "window_display": false
  }
 },
 "nbformat": 4,
 "nbformat_minor": 2
}
